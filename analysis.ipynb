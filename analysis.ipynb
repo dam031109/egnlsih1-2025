{
 "cells": [
  {
   "cell_type": "markdown",
   "metadata": {},
   "source": [
    "# Surprisal 실험 노트북\n",
    "\n",
    "16쌍 문장 (정상/오류)에 대한 GPT-2 기반 surprisal 분석"
   ]
  }
 ],
 "metadata": {
  "kernelspec": {
   "display_name": "Python 3",
   "language": "python",
   "name": "python3"
  },
  "language_info": {
   "name": "python"
  }
 },
 "nbformat": 4,
 "nbformat_minor": 5
}